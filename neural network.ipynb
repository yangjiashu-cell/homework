{
 "cells": [
  {
   "cell_type": "markdown",
   "id": "93d50519",
   "metadata": {},
   "source": [
    "作业：从零开始构建三层神经网络分类器，实现图像分类\n",
    "任务描述：\n",
    "手工搭建三层神经网络分类器，在数据集 CIFAR-10 上进行训练以实现图像分类。\n",
    "基本要求：\n",
    "（1） 本次作业要求自主实现反向传播，不允许使用 pytorch，tensorflow 等现成的支持自动微分的深度学习框架，可以使用 numpy；\n",
    "（2） 最终提交的代码中应至少包含模型、训练、测试和参数查找四个部分，鼓励进行模块化设计；\n",
    "（3） 其中模型部分应允许自定义隐藏层大小、激活函数类型，支持通过反向传播计算给定损失的梯度；训练部分应实现 SGD 优化器、学习率下降、交叉熵损失和 L2 正则化，并能根据验证集指标自动保存最优的模型权重；参数查找环节要求调节学习率、隐藏层大小、正则化强度等超参数，观察并记录模型在不同超参数下的性能；测试部分需支持导入训练好的模型，输出在测试集上的分类准确率（Accuracy）。\n",
    "提交要求：\n",
    "（1） 仅提交 pdf 格式的实验报告，报告中除对模型、数据集和实验结果的基本介绍外，还应可视化训练过程中在训练集和验证集上的 loss 曲线和验证集上的 accuracy 曲线；\n",
    "（2） 报告中需包含对训练好的模型网络参数的可视化，并观察其中的模式；\n",
    "（3） 代码提交到自己的 public github repo，repo 的 readme 中应清晰指明如何进行训练和测试，训练好的模型权重上传到百度云 /google drive 等网盘，实验报告内应包含实验代码所在的 github repo 链接及模型权重的下载地址。"
   ]
  },
  {
   "cell_type": "code",
   "execution_count": 4,
   "id": "789d3525",
   "metadata": {},
   "outputs": [
    {
     "ename": "FileNotFoundError",
     "evalue": "[Errno 2] No such file or directory: 'cifar-10-batches-py/data_batch_1'",
     "output_type": "error",
     "traceback": [
      "\u001b[1;31m---------------------------------------------------------------------------\u001b[0m",
      "\u001b[1;31mFileNotFoundError\u001b[0m                         Traceback (most recent call last)",
      "Cell \u001b[1;32mIn[4], line 1\u001b[0m\n\u001b[1;32m----> 1\u001b[0m \u001b[38;5;28;01mfrom\u001b[39;00m \u001b[38;5;21;01mdata_loader\u001b[39;00m \u001b[38;5;28;01mimport\u001b[39;00m load_cifar10_data\n\u001b[0;32m      2\u001b[0m \u001b[38;5;28;01mfrom\u001b[39;00m \u001b[38;5;21;01mmodel\u001b[39;00m \u001b[38;5;28;01mimport\u001b[39;00m NeuralNetwork\n\u001b[0;32m      3\u001b[0m \u001b[38;5;28;01mfrom\u001b[39;00m \u001b[38;5;21;01mtrainer\u001b[39;00m \u001b[38;5;28;01mimport\u001b[39;00m Trainer\n",
      "File \u001b[1;32mc:\\Users\\lenovo\\Desktop\\研究生\\研一下\\神经网络与深度学习\\作业1\\data_loader.py:31\u001b[0m\n\u001b[0;32m     28\u001b[0m     \u001b[38;5;28;01mreturn\u001b[39;00m X_train, y_train_onehot, X_test, y_test_onehot\n\u001b[0;32m     30\u001b[0m \u001b[38;5;66;03m# 使用示例\u001b[39;00m\n\u001b[1;32m---> 31\u001b[0m X_train, y_train, X_test, y_test \u001b[38;5;241m=\u001b[39m \u001b[43mload_cifar10_data\u001b[49m\u001b[43m(\u001b[49m\u001b[38;5;124;43m'\u001b[39;49m\u001b[38;5;124;43mcifar-10-batches-py\u001b[39;49m\u001b[38;5;124;43m'\u001b[39;49m\u001b[43m)\u001b[49m\n",
      "File \u001b[1;32mc:\\Users\\lenovo\\Desktop\\研究生\\研一下\\神经网络与深度学习\\作业1\\data_loader.py:12\u001b[0m, in \u001b[0;36mload_cifar10_data\u001b[1;34m(data_dir)\u001b[0m\n\u001b[0;32m     10\u001b[0m X_train, y_train \u001b[38;5;241m=\u001b[39m [], []\n\u001b[0;32m     11\u001b[0m \u001b[38;5;28;01mfor\u001b[39;00m i \u001b[38;5;129;01min\u001b[39;00m \u001b[38;5;28mrange\u001b[39m(\u001b[38;5;241m1\u001b[39m, \u001b[38;5;241m6\u001b[39m):\n\u001b[1;32m---> 12\u001b[0m     X, y \u001b[38;5;241m=\u001b[39m \u001b[43mload_cifar10_batch\u001b[49m\u001b[43m(\u001b[49m\u001b[38;5;124;43mf\u001b[39;49m\u001b[38;5;124;43m'\u001b[39;49m\u001b[38;5;132;43;01m{\u001b[39;49;00m\u001b[43mdata_dir\u001b[49m\u001b[38;5;132;43;01m}\u001b[39;49;00m\u001b[38;5;124;43m/data_batch_\u001b[39;49m\u001b[38;5;132;43;01m{\u001b[39;49;00m\u001b[43mi\u001b[49m\u001b[38;5;132;43;01m}\u001b[39;49;00m\u001b[38;5;124;43m'\u001b[39;49m\u001b[43m)\u001b[49m\n\u001b[0;32m     13\u001b[0m     X_train\u001b[38;5;241m.\u001b[39mappend(X)\n\u001b[0;32m     14\u001b[0m     y_train\u001b[38;5;241m.\u001b[39mappend(y)\n",
      "File \u001b[1;32mc:\\Users\\lenovo\\Desktop\\研究生\\研一下\\神经网络与深度学习\\作业1\\data_loader.py:5\u001b[0m, in \u001b[0;36mload_cifar10_batch\u001b[1;34m(file)\u001b[0m\n\u001b[0;32m      4\u001b[0m \u001b[38;5;28;01mdef\u001b[39;00m \u001b[38;5;21mload_cifar10_batch\u001b[39m(file):\n\u001b[1;32m----> 5\u001b[0m     \u001b[38;5;28;01mwith\u001b[39;00m \u001b[38;5;28;43mopen\u001b[39;49m\u001b[43m(\u001b[49m\u001b[43mfile\u001b[49m\u001b[43m,\u001b[49m\u001b[43m \u001b[49m\u001b[38;5;124;43m'\u001b[39;49m\u001b[38;5;124;43mrb\u001b[39;49m\u001b[38;5;124;43m'\u001b[39;49m\u001b[43m)\u001b[49m \u001b[38;5;28;01mas\u001b[39;00m fo:\n\u001b[0;32m      6\u001b[0m         \u001b[38;5;28mdict\u001b[39m \u001b[38;5;241m=\u001b[39m pickle\u001b[38;5;241m.\u001b[39mload(fo, encoding\u001b[38;5;241m=\u001b[39m\u001b[38;5;124m'\u001b[39m\u001b[38;5;124mbytes\u001b[39m\u001b[38;5;124m'\u001b[39m)\n\u001b[0;32m      7\u001b[0m     \u001b[38;5;28;01mreturn\u001b[39;00m \u001b[38;5;28mdict\u001b[39m[\u001b[38;5;124mb\u001b[39m\u001b[38;5;124m'\u001b[39m\u001b[38;5;124mdata\u001b[39m\u001b[38;5;124m'\u001b[39m], \u001b[38;5;28mdict\u001b[39m[\u001b[38;5;124mb\u001b[39m\u001b[38;5;124m'\u001b[39m\u001b[38;5;124mlabels\u001b[39m\u001b[38;5;124m'\u001b[39m]\n",
      "\u001b[1;31mFileNotFoundError\u001b[0m: [Errno 2] No such file or directory: 'cifar-10-batches-py/data_batch_1'"
     ]
    }
   ],
   "source": [
    "from data_loader import load_cifar10_data\n",
    "from model import NeuralNetwork\n",
    "from trainer import Trainer\n",
    "\n",
    "# 加载数据\n",
    "X_train_full, y_train_full, X_test, y_test = load_cifar10_data('cifar-10-batches-py')\n",
    "\n",
    "# 划分验证集\n",
    "val_size = 5000\n",
    "X_val = X_train_full[:val_size]\n",
    "y_val = y_train_full[:val_size]\n",
    "X_train = X_train_full[val_size:]\n",
    "y_train = y_train_full[val_size:]\n",
    "\n",
    "# 设置超参数\n",
    "model = NeuralNetwork(3072, 512, 10, activation='relu', reg_lambda=0.001)\n",
    "trainer = Trainer(model, learning_rate=0.001, batch_size=64, epochs=50)\n",
    "\n",
    "# 训练\n",
    "trainer.train(X_train, y_train, X_val, y_val)\n",
    "\n",
    "# 测试\n",
    "trainer.load_model('best_model.npy')\n",
    "test_acc = trainer.evaluate(X_test, y_test)\n",
    "print(f\"Test Accuracy: {test_acc:.4f}\")"
   ]
  },
  {
   "cell_type": "code",
   "execution_count": null,
   "id": "c85bdec4",
   "metadata": {},
   "outputs": [
    {
     "ename": "NameError",
     "evalue": "name 'NeuralNetwork' is not defined",
     "output_type": "error",
     "traceback": [
      "\u001b[1;31m---------------------------------------------------------------------------\u001b[0m",
      "\u001b[1;31mNameError\u001b[0m                                 Traceback (most recent call last)",
      "Cell \u001b[1;32mIn[1], line 8\u001b[0m\n\u001b[0;32m      6\u001b[0m \u001b[38;5;28;01mfor\u001b[39;00m lr \u001b[38;5;129;01min\u001b[39;00m learning_rates:\n\u001b[0;32m      7\u001b[0m     \u001b[38;5;28;01mfor\u001b[39;00m reg \u001b[38;5;129;01min\u001b[39;00m reg_lambdas:\n\u001b[1;32m----> 8\u001b[0m         model \u001b[38;5;241m=\u001b[39m \u001b[43mNeuralNetwork\u001b[49m(\u001b[38;5;241m3072\u001b[39m, hidden_size, \u001b[38;5;241m10\u001b[39m, activation\u001b[38;5;241m=\u001b[39m\u001b[38;5;124m'\u001b[39m\u001b[38;5;124mrelu\u001b[39m\u001b[38;5;124m'\u001b[39m, reg_lambda\u001b[38;5;241m=\u001b[39mreg)\n\u001b[0;32m      9\u001b[0m         trainer \u001b[38;5;241m=\u001b[39m Trainer(model, learning_rate\u001b[38;5;241m=\u001b[39mlr)\n\u001b[0;32m     10\u001b[0m         trainer\u001b[38;5;241m.\u001b[39mtrain(X_train, y_train, X_val, y_val)\n",
      "\u001b[1;31mNameError\u001b[0m: name 'NeuralNetwork' is not defined"
     ]
    }
   ],
   "source": [
    "hidden_sizes = [128, 256, 512]\n",
    "learning_rates = [0.01, 0.001, 0.0001]\n",
    "reg_lambdas = [0.0001, 0.001, 0.01]\n",
    "\n",
    "for hidden_size in hidden_sizes:\n",
    "    for lr in learning_rates:\n",
    "        for reg in reg_lambdas:\n",
    "            model = NeuralNetwork(3072, hidden_size, 10, activation='relu', reg_lambda=reg)\n",
    "            trainer = Trainer(model, learning_rate=lr)\n",
    "            trainer.train(X_train, y_train, X_val, y_val)\n",
    "            test_acc = trainer.evaluate(X_test, y_test)\n",
    "            print(f\"Hidden: {hidden_size}, LR: {lr}, Reg: {reg}, Test Acc: {test_acc:.4f}\")"
   ]
  },
  {
   "cell_type": "code",
   "execution_count": null,
   "id": "dd19bd87",
   "metadata": {},
   "outputs": [
    {
     "ename": "NameError",
     "evalue": "name 'trainer' is not defined",
     "output_type": "error",
     "traceback": [
      "\u001b[1;31m---------------------------------------------------------------------------\u001b[0m",
      "\u001b[1;31mNameError\u001b[0m                                 Traceback (most recent call last)",
      "Cell \u001b[1;32mIn[2], line 1\u001b[0m\n\u001b[1;32m----> 1\u001b[0m \u001b[43mtrainer\u001b[49m\u001b[38;5;241m.\u001b[39mload_model(\u001b[38;5;124m'\u001b[39m\u001b[38;5;124mbest_model.npy\u001b[39m\u001b[38;5;124m'\u001b[39m)\n\u001b[0;32m      2\u001b[0m test_acc \u001b[38;5;241m=\u001b[39m trainer\u001b[38;5;241m.\u001b[39mevaluate(X_test, y_test)\n\u001b[0;32m      3\u001b[0m \u001b[38;5;28mprint\u001b[39m(\u001b[38;5;124mf\u001b[39m\u001b[38;5;124m\"\u001b[39m\u001b[38;5;124mTest Accuracy: \u001b[39m\u001b[38;5;132;01m{\u001b[39;00mtest_acc\u001b[38;5;132;01m:\u001b[39;00m\u001b[38;5;124m.4f\u001b[39m\u001b[38;5;132;01m}\u001b[39;00m\u001b[38;5;124m\"\u001b[39m)\n",
      "\u001b[1;31mNameError\u001b[0m: name 'trainer' is not defined"
     ]
    }
   ],
   "source": [
    "trainer.load_model('best_model.npy')\n",
    "test_acc = trainer.evaluate(X_test, y_test)\n",
    "print(f\"Test Accuracy: {test_acc:.4f}\")"
   ]
  }
 ],
 "metadata": {
  "kernelspec": {
   "display_name": "base",
   "language": "python",
   "name": "python3"
  },
  "language_info": {
   "codemirror_mode": {
    "name": "ipython",
    "version": 3
   },
   "file_extension": ".py",
   "mimetype": "text/x-python",
   "name": "python",
   "nbconvert_exporter": "python",
   "pygments_lexer": "ipython3",
   "version": "3.8.18"
  }
 },
 "nbformat": 4,
 "nbformat_minor": 5
}
